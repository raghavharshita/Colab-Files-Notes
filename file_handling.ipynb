{
  "cells": [
    {
      "cell_type": "markdown",
      "metadata": {
        "id": "view-in-github",
        "colab_type": "text"
      },
      "source": [
        "<a href=\"https://colab.research.google.com/github/raghavharshita/Colab-Files-Notes/blob/main/file_handling.ipynb\" target=\"_parent\"><img src=\"https://colab.research.google.com/assets/colab-badge.svg\" alt=\"Open In Colab\"/></a>"
      ]
    },
    {
      "cell_type": "markdown",
      "metadata": {
        "id": "c18P5SYk5MYh"
      },
      "source": [
        "Theory\n",
        "Types of data used for I/O:\n",
        "* Text-'12345' as a sequence of unicode chars\n",
        "* Binary- 12345 as a sequence of byte of its binary equivalent\n",
        "\n",
        "Here are two file type to deal with:\n",
        "* Text files: All program file are text file\n",
        "* Binary files: images,music,video,exe files\n",
        "\n",
        "How File I/O in most programming language\n",
        "* Open a file\n",
        "* Read/write data\n",
        "* Close the file"
      ]
    },
    {
      "cell_type": "markdown",
      "metadata": {
        "id": "GF_baYZ269HJ"
      },
      "source": [
        "## Writing to a file"
      ]
    },
    {
      "cell_type": "code",
      "execution_count": null,
      "metadata": {
        "id": "QWq6vlcc67rH"
      },
      "outputs": [],
      "source": [
        "# case 1 - if the file is not present\n",
        "f=open('sample.txt','w')\n",
        "f.write('Hello world')\n",
        "f.close()\n",
        "#since file is close, now the actions won't work\n",
        "# f.write('harshita')"
      ]
    },
    {
      "cell_type": "code",
      "execution_count": null,
      "metadata": {
        "id": "eJMCfNMS_LyC"
      },
      "outputs": [],
      "source": [
        "#write multiline string\n",
        "f=open('sample1.txt','w')\n",
        "f.write('hello world')\n",
        "f.write('\\nHow are you')\n",
        "f.close()"
      ]
    },
    {
      "cell_type": "code",
      "execution_count": null,
      "metadata": {
        "id": "JRBZ8mnvABQL"
      },
      "outputs": [],
      "source": [
        "# case 2- if file is already present\n",
        "f=open('sample.txt','w')\n",
        "f.write('salam khan')\n",
        "f.close()"
      ]
    },
    {
      "cell_type": "code",
      "execution_count": null,
      "metadata": {
        "id": "cQteSeZ-A7Dg"
      },
      "outputs": [],
      "source": [
        "f=open('sample1.txt','a')\n",
        "f.write('\\nI a fine')\n",
        "f.close()"
      ]
    },
    {
      "cell_type": "code",
      "execution_count": null,
      "metadata": {
        "id": "-wgi4yICBKEf"
      },
      "outputs": [],
      "source": [
        "#write lines\n",
        "L=['Hello\\n','Hye\\n','How are you\\n','I am fine\\n']\n",
        "f=open('/content/sample.txt','w')\n",
        "f.writelines(L)\n",
        "f.close()"
      ]
    },
    {
      "cell_type": "code",
      "execution_count": null,
      "metadata": {
        "colab": {
          "base_uri": "https://localhost:8080/"
        },
        "id": "LGpZlqdPBJ8N",
        "outputId": "997b5e49-4ce2-45bc-a38c-5ae1c7e90672"
      },
      "outputs": [
        {
          "name": "stdout",
          "output_type": "stream",
          "text": [
            "Hello\n",
            "Hye\n",
            "How are you\n",
            "I am fine\n",
            "\n"
          ]
        }
      ],
      "source": [
        "# read from files\n",
        "f=open('sample.txt','r')\n",
        "s=f.read()\n",
        "f.close()\n",
        "print(s)"
      ]
    },
    {
      "cell_type": "code",
      "execution_count": null,
      "metadata": {
        "colab": {
          "base_uri": "https://localhost:8080/",
          "height": 36
        },
        "id": "ZHvi4upmBJ6d",
        "outputId": "e901986d-1e2b-43fe-8e77-b3aad89a2ba4"
      },
      "outputs": [
        {
          "data": {
            "application/vnd.google.colaboratory.intrinsic+json": {
              "type": "string"
            },
            "text/plain": [
              "'hello worl'"
            ]
          },
          "execution_count": 26,
          "metadata": {},
          "output_type": "execute_result"
        }
      ],
      "source": [
        "# read upto n characters\n",
        "f=open('sample1.txt','r')\n",
        "s=f.read(10)\n",
        "f.close()\n",
        "s"
      ]
    },
    {
      "cell_type": "code",
      "execution_count": null,
      "metadata": {
        "colab": {
          "base_uri": "https://localhost:8080/"
        },
        "id": "L9SLGBILBJ3u",
        "outputId": "19db475a-cc31-4d38-ef6b-56e0a25e58b4"
      },
      "outputs": [
        {
          "name": "stdout",
          "output_type": "stream",
          "text": [
            "Hello\n",
            "Hye\n"
          ]
        }
      ],
      "source": [
        "# readline() read code line by line\n",
        "f=open('/content/sample.txt','r')\n",
        "print(f.readline(),end='')\n",
        "print(f.readline(),end='')\n",
        "f.close()\n"
      ]
    },
    {
      "cell_type": "code",
      "execution_count": null,
      "metadata": {
        "colab": {
          "base_uri": "https://localhost:8080/"
        },
        "id": "0OXfWnKzhixR",
        "outputId": "16e36ad5-ed1d-4ac5-dec8-87501f690071"
      },
      "outputs": [
        {
          "name": "stdout",
          "output_type": "stream",
          "text": [
            "Hello\n",
            "Hye\n",
            "How are you\n",
            "I am fine\n"
          ]
        }
      ],
      "source": [
        "#read entire using readline\n",
        "f=open('/content/sample.txt','r')\n",
        "while True:\n",
        "  data=f.readline()\n",
        "  if data=='':\n",
        "    break\n",
        "  else:\n",
        "    print(data,end='')\n",
        "f.close()"
      ]
    },
    {
      "cell_type": "markdown",
      "metadata": {
        "id": "Fyr0-kXecyJr"
      },
      "source": [
        "## Using context manager(with)\n",
        "\n",
        "* It is good idea to close a file after usage as it will free up the resources.\n",
        "* If we don't close it, garbage collector would close it.\n",
        "* `with` keyword closes the file as soon as the usage is over."
      ]
    },
    {
      "cell_type": "code",
      "execution_count": null,
      "metadata": {
        "id": "40oZnGsYhi1k"
      },
      "outputs": [],
      "source": [
        "#with\n",
        "with open('/content/sample.txt','w') as f:\n",
        "  f.write('Salman Khan')\n"
      ]
    },
    {
      "cell_type": "code",
      "execution_count": null,
      "metadata": {
        "colab": {
          "base_uri": "https://localhost:8080/"
        },
        "id": "v-JupOlrhi8E",
        "outputId": "42cd392a-220d-455a-8b93-b6f8cae4ce8a"
      },
      "outputs": [
        {
          "name": "stdout",
          "output_type": "stream",
          "text": [
            "Salman Khan\n"
          ]
        }
      ],
      "source": [
        "with open('/content/sample.txt','r') as f:\n",
        "  print(f.read())"
      ]
    },
    {
      "cell_type": "code",
      "execution_count": null,
      "metadata": {
        "colab": {
          "base_uri": "https://localhost:8080/"
        },
        "id": "kLRUFjgheXU9",
        "outputId": "302b91df-85b7-431d-849c-01bf1a07bf18"
      },
      "outputs": [
        {
          "name": "stdout",
          "output_type": "stream",
          "text": [
            "Hello\n",
            "Hye\n",
            "\n"
          ]
        }
      ],
      "source": [
        "# moving within a file -> 10 char than 10 char\n",
        "with open('/content/sample.txt','r') as f:\n",
        "  print(f.read(10))"
      ]
    },
    {
      "cell_type": "code",
      "execution_count": null,
      "metadata": {
        "id": "65AwPuUreXXY"
      },
      "outputs": [],
      "source": [
        "big_l=['hello world 'for i in range(1000)]\n",
        "\n",
        "with open('/content/sample.txt','w') as f:\n",
        "  f.writelines(big_l)"
      ]
    },
    {
      "cell_type": "code",
      "execution_count": null,
      "metadata": {
        "colab": {
          "base_uri": "https://localhost:8080/"
        },
        "id": "cQRGTpeyeXaK",
        "outputId": "779014ed-1741-4256-e0f4-9ee0a51bb479"
      },
      "outputs": [
        {
          "name": "stdout",
          "output_type": "stream",
          "text": [
            "o world hello world hello world hello world hello world hello world hello world hello world hello wo\n",
            "o world hello world hello world hello world hello world hello world hello world hello world hello wo\n",
            "o world hello world hello world hello world hello world hello world hello world hello world hello wo\n",
            "o world hello world hello world hello world hello world hello world hello world hello world hello wo\n",
            "o world hello world hello world hello world hello world hello world hello world hello world hello wo\n",
            "o world hello world hello world hello world hello world hello world hello world hello world hello wo\n",
            "o world hello world hello world hello world hello world hello world hello world hello world hello wo\n",
            "o world hello world hello world hello world hello world hello world hello world hello world hello wo\n",
            "o world hello world hello world hello world hello world hello world hello world hello world hello wo\n",
            "o world hello world hello world hello world hello world hello world hello world hello world hello wo\n",
            "o world hello world hello world hello world hello world hello world hello world hello world hello wo\n",
            "o world hello world hello world hello world hello world hello world hello world hello world hello wo\n",
            "o world hello world hello world hello world hello world hello world hello world hello world hello wo\n",
            "o world hello world hello world hello world hello world hello world hello world hello world hello wo\n",
            "o world hello world hello world hello world hello world hello world hello world hello world hello wo\n",
            "o world hello world hello world hello world hello world hello world hello world hello world hello wo\n",
            "o world hello world hello world hello world hello world hello world hello world hello world hello wo\n",
            "o world hello world hello world hello world hello world hello world hello world hello world hello wo\n",
            "o world hello world hello world hello world hello world hello world hello world hello world hello wo\n",
            "o world hello world hello world hello world hello world hello world hello world hello world hello wo\n",
            "o world hello world hello world hello world hello world hello world hello world hello world hello wo\n",
            "o world hello world hello world hello world hello world hello world hello world hello world hello wo\n",
            "o world hello world hello world hello world hello world hello world hello world hello world hello wo\n",
            "o world hello world hello world hello world hello world hello world hello world hello world hello wo\n",
            "o world hello world hello world hello world hello world hello world hello world hello world hello wo\n",
            "o world hello world hello world hello world hello world hello world hello world hello world hello wo\n",
            "o world hello world hello world hello world hello world hello world hello world hello world hello wo\n",
            "o world hello world hello world hello world hello world hello world hello world hello world hello wo\n",
            "o world hello world hello world hello world hello world hello world hello world hello world hello wo\n",
            "o world hello world hello world hello world hello world hello world hello world hello world hello wo\n",
            "o world hello world hello world hello world hello world hello world hello world hello world hello wo\n",
            "o world hello world hello world hello world hello world hello world hello world hello world hello wo\n",
            "o world hello world hello world hello world hello world hello world hello world hello world hello wo\n",
            "o world hello world hello world hello world hello world hello world hello world hello world hello wo\n",
            "o world hello world hello world hello world hello world hello world hello world hello world hello wo\n",
            "o world hello world hello world hello world hello world hello world hello world hello world hello wo\n",
            "o world hello world hello world hello world hello world hello world hello world hello world hello wo\n",
            "o world hello world hello world hello world hello world hello world hello world hello world hello wo\n",
            "o world hello world hello world hello world hello world hello world hello world hello world hello wo\n",
            "o world hello world hello world hello world hello world hello world hello world hello world hello wo\n"
          ]
        }
      ],
      "source": [
        "with open('/content/sample.txt','r') as f:\n",
        "  chunk_size=100\n",
        "  while len(f.read(chunk_size))>0:\n",
        "    print(f.read(chunk_size))\n",
        "    f.read(chunk_size)"
      ]
    },
    {
      "cell_type": "code",
      "execution_count": null,
      "metadata": {
        "colab": {
          "base_uri": "https://localhost:8080/"
        },
        "id": "k3FZ2sHneXc5",
        "outputId": "0889f490-224d-4f94-8ca7-ca1731fa6f05"
      },
      "outputs": [
        {
          "name": "stdout",
          "output_type": "stream",
          "text": [
            "hello worl\n",
            "10\n",
            "hello worl\n",
            "10\n"
          ]
        }
      ],
      "source": [
        "#seek and tell function\n",
        "with open('/content/sample.txt','r') as f:\n",
        "  print(f.read(10))\n",
        "  print(f.tell())\n",
        "  f.seek(0)\n",
        "  print(f.read(10))\n",
        "  print(f.tell())"
      ]
    },
    {
      "cell_type": "code",
      "execution_count": null,
      "metadata": {
        "id": "-uQqNAcueXfZ"
      },
      "outputs": [],
      "source": [
        "#seek during write\n",
        "with open('/content/sample.txt','w') as f:\n",
        "  f.write('Hello')\n",
        "  f.seek(0)\n",
        "  f.write('X')"
      ]
    },
    {
      "cell_type": "markdown",
      "metadata": {
        "id": "lI1vcGo9kDiJ"
      },
      "source": [
        "## Problems with working in text mode\n",
        "\n",
        "* Can't work with binary file like image\n",
        "* Not good for other datatypes like int/float/list/tuples."
      ]
    },
    {
      "cell_type": "code",
      "execution_count": null,
      "metadata": {
        "colab": {
          "base_uri": "https://localhost:8080/",
          "height": 211
        },
        "id": "Gqy5fKiweXkr",
        "outputId": "4ee75f3c-f378-4a40-c188-b74f6facfd42"
      },
      "outputs": [
        {
          "ename": "UnicodeDecodeError",
          "evalue": "'utf-8' codec can't decode byte 0xa6 in position 4: invalid start byte",
          "output_type": "error",
          "traceback": [
            "\u001b[0;31m---------------------------------------------------------------------------\u001b[0m",
            "\u001b[0;31mUnicodeDecodeError\u001b[0m                        Traceback (most recent call last)",
            "\u001b[0;32m/tmp/ipython-input-2055994904.py\u001b[0m in \u001b[0;36m<cell line: 0>\u001b[0;34m()\u001b[0m\n\u001b[1;32m      1\u001b[0m \u001b[0;32mwith\u001b[0m \u001b[0mopen\u001b[0m\u001b[0;34m(\u001b[0m\u001b[0;34m'/content/radhe.webp'\u001b[0m\u001b[0;34m,\u001b[0m\u001b[0;34m'r'\u001b[0m\u001b[0;34m)\u001b[0m \u001b[0;32mas\u001b[0m \u001b[0mf\u001b[0m\u001b[0;34m:\u001b[0m\u001b[0;34m\u001b[0m\u001b[0;34m\u001b[0m\u001b[0m\n\u001b[0;32m----> 2\u001b[0;31m   \u001b[0mf\u001b[0m\u001b[0;34m.\u001b[0m\u001b[0mread\u001b[0m\u001b[0;34m(\u001b[0m\u001b[0;34m)\u001b[0m\u001b[0;34m\u001b[0m\u001b[0;34m\u001b[0m\u001b[0m\n\u001b[0m",
            "\u001b[0;32m/usr/lib/python3.12/codecs.py\u001b[0m in \u001b[0;36mdecode\u001b[0;34m(self, input, final)\u001b[0m\n",
            "\u001b[0;31mUnicodeDecodeError\u001b[0m: 'utf-8' codec can't decode byte 0xa6 in position 4: invalid start byte"
          ]
        }
      ],
      "source": [
        "with open('/content/radhe.webp','r') as f:\n",
        "  f.read()"
      ]
    },
    {
      "cell_type": "code",
      "execution_count": null,
      "metadata": {
        "id": "zCI042lGJoOA"
      },
      "outputs": [],
      "source": [
        "#working with binary file\n",
        "with open('/content/radhe.webp','rb') as f:\n",
        "  with open('screenshot_copy.jpg','wb') as wf:\n",
        "    wf.write(f.read())"
      ]
    },
    {
      "cell_type": "code",
      "execution_count": null,
      "metadata": {
        "colab": {
          "base_uri": "https://localhost:8080/",
          "height": 176
        },
        "id": "SjUrrZBtJoQ8",
        "outputId": "b79872c4-cdde-42cc-e9a2-6f741135ce28"
      },
      "outputs": [
        {
          "ename": "TypeError",
          "evalue": "write() argument must be str, not int",
          "output_type": "error",
          "traceback": [
            "\u001b[0;31m---------------------------------------------------------------------------\u001b[0m",
            "\u001b[0;31mTypeError\u001b[0m                                 Traceback (most recent call last)",
            "\u001b[0;32m/tmp/ipython-input-1443470311.py\u001b[0m in \u001b[0;36m<cell line: 0>\u001b[0;34m()\u001b[0m\n\u001b[1;32m      1\u001b[0m \u001b[0;31m#work with other data type\u001b[0m\u001b[0;34m\u001b[0m\u001b[0;34m\u001b[0m\u001b[0m\n\u001b[1;32m      2\u001b[0m \u001b[0;32mwith\u001b[0m \u001b[0mopen\u001b[0m\u001b[0;34m(\u001b[0m\u001b[0;34m'sample.txt'\u001b[0m\u001b[0;34m,\u001b[0m\u001b[0;34m'w'\u001b[0m\u001b[0;34m)\u001b[0m \u001b[0;32mas\u001b[0m \u001b[0mf\u001b[0m\u001b[0;34m:\u001b[0m\u001b[0;34m\u001b[0m\u001b[0;34m\u001b[0m\u001b[0m\n\u001b[0;32m----> 3\u001b[0;31m   \u001b[0mf\u001b[0m\u001b[0;34m.\u001b[0m\u001b[0mwrite\u001b[0m\u001b[0;34m(\u001b[0m\u001b[0;36m4\u001b[0m\u001b[0;34m)\u001b[0m\u001b[0;34m\u001b[0m\u001b[0;34m\u001b[0m\u001b[0m\n\u001b[0m",
            "\u001b[0;31mTypeError\u001b[0m: write() argument must be str, not int"
          ]
        }
      ],
      "source": [
        "#work with other data type\n",
        "with open('sample.txt','w') as f:\n",
        "  f.write(4)"
      ]
    },
    {
      "cell_type": "markdown",
      "metadata": {
        "id": "hLS7MbhEMlw3"
      },
      "source": [
        "## Serialization and Deserialization\n",
        "\n",
        "**Serialization:** Process of converting python data type to JSON.\n",
        "\n",
        "**Deserialization:** Process of converting JSON to python format.\n",
        "\n",
        "**JSON:** javascript on notation is a universal text format which is understand by all the programming language."
      ]
    },
    {
      "cell_type": "code",
      "execution_count": null,
      "metadata": {
        "id": "XVB6aIRYJoTd"
      },
      "outputs": [],
      "source": [
        "#Serialization using JSON module\n",
        "#list\n",
        "import json\n",
        "L=[1,2,3,4,5]\n",
        "with open('demo.json','w')as f:\n",
        "  json.dump(L,f)"
      ]
    },
    {
      "cell_type": "code",
      "execution_count": null,
      "metadata": {
        "id": "o7aRySJ3JoWv"
      },
      "outputs": [],
      "source": [
        "import json\n",
        "d={\n",
        "    'name':'Harshita',\n",
        "    'age':22,\n",
        "    'gender':'female'\n",
        "}\n",
        "\n",
        "with open('demo1.json','w') as f:\n",
        "  json.dump(d,f,indent=4)"
      ]
    },
    {
      "cell_type": "code",
      "source": [
        "import pickle\n",
        "L=[1,2,3,4,5]\n",
        "with open('demo.pkl','wb') as f:\n",
        "  pickle.dump(L,f)"
      ],
      "metadata": {
        "id": "y2kRVp7O82Yt"
      },
      "execution_count": null,
      "outputs": []
    },
    {
      "cell_type": "code",
      "source": [
        "with open('demo.pkl','rb') as f:\n",
        "  print(pickle.load(f))"
      ],
      "metadata": {
        "colab": {
          "base_uri": "https://localhost:8080/"
        },
        "id": "ygKsJ4zA9IbX",
        "outputId": "bc686b42-404f-4744-b0fb-662a00fb108b"
      },
      "execution_count": null,
      "outputs": [
        {
          "output_type": "stream",
          "name": "stdout",
          "text": [
            "[1, 2, 3, 4, 5]\n"
          ]
        }
      ]
    },
    {
      "cell_type": "markdown",
      "source": [
        "# Exception Handling"
      ],
      "metadata": {
        "id": "meWF4Becrnqe"
      }
    },
    {
      "cell_type": "markdown",
      "source": [
        "There are 2 stages where error may happen in a program:\n",
        "* During Compilation->Syntax Error\n",
        "* During Execution->Exceptions"
      ],
      "metadata": {
        "id": "8OTyuKQers9y"
      }
    },
    {
      "cell_type": "markdown",
      "source": [
        "## Syntax Error\n",
        "* Something in the program is not written according to the program grammar.\n",
        "* Error is raised by interpreter/compiler.\n",
        "* You can solve it by rectifying the program."
      ],
      "metadata": {
        "id": "W_rOtzFyr_XA"
      }
    },
    {
      "cell_type": "markdown",
      "source": [
        "**IndexError**\n",
        "- The indexerror is thrown when trying to access an item at an invalid index.\n",
        "\n",
        "**ModuleNotFoundError**\n",
        "- The ModuleNotFoundError is thrown when a module could not be found.\n",
        "\n",
        "**KeyError**\n",
        "- The keyerror is thrown when a key is not found in a dictionary.\n",
        "\n",
        "**TypeError**\n",
        "- The TypeError is thrown when an operation is applied to an object of an inappropriate type.\n",
        "\n",
        "**ValueError**\n",
        "- The ValueError is thrown when a function's argument is of an inappropriate type.\n",
        "\n",
        "**NameError**\n",
        "- The NameError is thrown when an object could not be found.\n",
        "\n",
        "**AttributeError**\n",
        "- AttributeError occurs when to access an attribute of an object that does not exist for that specific object or data type."
      ],
      "metadata": {
        "id": "nDM2B-50tNwA"
      }
    },
    {
      "cell_type": "markdown",
      "source": [
        "## Exceptions\n",
        "If things go wrong during the execution of program(runtime). It generally happens when something unforeseen has happened.\n",
        "\n",
        "\n",
        "*   Exceptions are raise by python runtime\n",
        "*   You have to tackle it on the fly.\n",
        "\n",
        "**Example**\n",
        "* Memory overflow\n",
        "* Divide by 0->logical error\n",
        "* Database error"
      ],
      "metadata": {
        "id": "4I_mcxOBwdBg"
      }
    },
    {
      "cell_type": "code",
      "execution_count": null,
      "metadata": {
        "id": "jG-1R1WrJobf"
      },
      "outputs": [],
      "source": [
        "#why is it important to do exception handling?\n",
        "# 1) Its dangereous to show this crucial message on the surface.\n",
        "# 2) Users Experience\n",
        "#How to handle exception handling?\n",
        "#->Try Except block"
      ]
    },
    {
      "cell_type": "code",
      "execution_count": null,
      "metadata": {
        "id": "2iAnv7QqJod9"
      },
      "outputs": [],
      "source": [
        "with open('text.txt','w') as f:\n",
        "  f.write('hello world')"
      ]
    },
    {
      "cell_type": "code",
      "source": [
        "try:\n",
        "  with open('sample.txt','r') as f:\n",
        "    print(f.read())\n",
        "except:\n",
        "  print('sorry file not found')"
      ],
      "metadata": {
        "colab": {
          "base_uri": "https://localhost:8080/"
        },
        "id": "kbyR_sRb9rjC",
        "outputId": "147898df-3883-4e02-88d7-9d5450746a22"
      },
      "execution_count": null,
      "outputs": [
        {
          "output_type": "stream",
          "name": "stdout",
          "text": [
            "sorry file not found\n"
          ]
        }
      ]
    },
    {
      "cell_type": "code",
      "source": [
        "#catching specific exception\n",
        "try:\n",
        "  f=open('text.txt','r')\n",
        "  print(f.read())\n",
        "  f.close()\n",
        "  print(1/0)\n",
        "  print(m)\n",
        "except FileNotFoundError as e:\n",
        "  print('file not found')\n",
        "except NameError:\n",
        "  print('variable not defined')\n",
        "except ZeroDivisionError:\n",
        "  print('can not divide by zero')\n",
        "except Exception as e:\n",
        "  print(e)\n",
        "  print(e.with_traceback)"
      ],
      "metadata": {
        "colab": {
          "base_uri": "https://localhost:8080/"
        },
        "id": "rhko0Na9-G-x",
        "outputId": "b7e11b51-a1a6-4e49-9c3e-5514407fef7b"
      },
      "execution_count": null,
      "outputs": [
        {
          "output_type": "stream",
          "name": "stdout",
          "text": [
            "hello world\n",
            "can not divide by zero\n"
          ]
        }
      ]
    },
    {
      "cell_type": "code",
      "source": [
        "#else block\n",
        "try:\n",
        "  f=open('text.txt','r')\n",
        "except FileNotFoundError:\n",
        "  print('file nhi mili')\n",
        "except Exception:\n",
        "  print('kuch to gadbad hai')\n",
        "else:\n",
        "  print(f.read())\n"
      ],
      "metadata": {
        "colab": {
          "base_uri": "https://localhost:8080/"
        },
        "id": "BY9RfaDXC4V8",
        "outputId": "501f3c31-fe3e-4fbf-917b-4421ada07ac1"
      },
      "execution_count": null,
      "outputs": [
        {
          "output_type": "stream",
          "name": "stdout",
          "text": [
            "hello world\n"
          ]
        }
      ]
    },
    {
      "cell_type": "code",
      "source": [
        "#finally\n",
        "try:\n",
        "  f=open('text1.txt','r')\n",
        "except FileNotFoundError:\n",
        "  print('file nhi mili')\n",
        "except Exception:\n",
        "  print('kuch to gadbad hai')\n",
        "else:\n",
        "  print(f.read())\n",
        "finally:\n",
        "  f.close()\n",
        "  print('yeah toh print hoga hi')\n"
      ],
      "metadata": {
        "colab": {
          "base_uri": "https://localhost:8080/"
        },
        "id": "vDZKIQw0DdtJ",
        "outputId": "a3851cf6-3bdf-4800-9d00-56570d94b44d"
      },
      "execution_count": null,
      "outputs": [
        {
          "output_type": "stream",
          "name": "stdout",
          "text": [
            "file nhi mili\n",
            "yeah toh print hoga hi\n"
          ]
        }
      ]
    },
    {
      "cell_type": "code",
      "source": [
        "#raise exception\n",
        "# In python Programming, exceptions are raise when errors occurs at runtime\n",
        "# we can also manually raise exceptions using the raise keyword\n",
        "# we can optimally pass values to the exception of clarify why that exception was raised\n",
        "\n",
        "raise NameError('aise hi try krr rhi hu')"
      ],
      "metadata": {
        "colab": {
          "base_uri": "https://localhost:8080/",
          "height": 176
        },
        "id": "1GB2FH3EktxH",
        "outputId": "6f9954ad-0eed-414f-b304-91b112dfa44e"
      },
      "execution_count": null,
      "outputs": [
        {
          "output_type": "error",
          "ename": "NameError",
          "evalue": "aise hi try krr rhi hu",
          "traceback": [
            "\u001b[0;31m---------------------------------------------------------------------------\u001b[0m",
            "\u001b[0;31mNameError\u001b[0m                                 Traceback (most recent call last)",
            "\u001b[0;32m/tmp/ipython-input-595673612.py\u001b[0m in \u001b[0;36m<cell line: 0>\u001b[0;34m()\u001b[0m\n\u001b[1;32m      4\u001b[0m \u001b[0;31m# we can optimally pass values to the exception of clarify why that exception was raised\u001b[0m\u001b[0;34m\u001b[0m\u001b[0;34m\u001b[0m\u001b[0m\n\u001b[1;32m      5\u001b[0m \u001b[0;34m\u001b[0m\u001b[0m\n\u001b[0;32m----> 6\u001b[0;31m \u001b[0;32mraise\u001b[0m \u001b[0mNameError\u001b[0m\u001b[0;34m(\u001b[0m\u001b[0;34m'aise hi try krr rhi hu'\u001b[0m\u001b[0;34m)\u001b[0m\u001b[0;34m\u001b[0m\u001b[0;34m\u001b[0m\u001b[0m\n\u001b[0m",
            "\u001b[0;31mNameError\u001b[0m: aise hi try krr rhi hu"
          ]
        }
      ]
    },
    {
      "cell_type": "code",
      "source": [
        "class Bank:\n",
        "  def __init__(self,balance):\n",
        "    self.balance=balance\n",
        "  def withdraw(self,amount):\n",
        "    if amount<0:\n",
        "      raise Exception('amount cannot be negative')\n",
        "    if self.balance<amount:\n",
        "      raise Exception('insufficient balance')\n",
        "    self.balance=self.balance-amount\n",
        "\n",
        "obj=Bank(10000)\n",
        "try:\n",
        "  obj.withdraw(-50000)\n",
        "except Exception as e:\n",
        "  print(e)\n",
        "else:\n",
        "  print(obj.balance)"
      ],
      "metadata": {
        "colab": {
          "base_uri": "https://localhost:8080/"
        },
        "id": "fCu6v52Tln85",
        "outputId": "67bd3a75-798c-4a69-d165-5a74b5928535"
      },
      "execution_count": null,
      "outputs": [
        {
          "output_type": "stream",
          "name": "stdout",
          "text": [
            "amount cannot be negative\n"
          ]
        }
      ]
    },
    {
      "cell_type": "code",
      "source": [
        "class myException(Exception):\n",
        "  def __init__(self,message):\n",
        "    print(message)\n",
        "class Bank:\n",
        "  def __init__(self,balance):\n",
        "    self.balance=balance\n",
        "  def withdraw(self,amount):\n",
        "    if amount<0:\n",
        "      raise myException('amount cannot be negative')\n",
        "    if self.balance<amount:\n",
        "      raise myException('insufficient balance')\n",
        "    self.balance=self.balance-amount\n",
        "\n",
        "obj=Bank(10000)\n",
        "try:\n",
        "  obj.withdraw(50000)\n",
        "except myException as e:\n",
        "  pass\n",
        "else:\n",
        "  print(obj.balance)"
      ],
      "metadata": {
        "id": "uxocmfrdln_y",
        "colab": {
          "base_uri": "https://localhost:8080/"
        },
        "outputId": "e561c1df-d95a-4c72-a10f-925f4197874b"
      },
      "execution_count": null,
      "outputs": [
        {
          "output_type": "stream",
          "name": "stdout",
          "text": [
            "insufficient balance\n"
          ]
        }
      ]
    },
    {
      "cell_type": "code",
      "source": [
        "class SecurityError(Exception):\n",
        "  def __init__(self,message):\n",
        "    print(message)\n",
        "\n",
        "  def logout(self):\n",
        "    print('logout')\n",
        "class Google:\n",
        "  def __init__(self,name,email,password,device):\n",
        "    self.name=name\n",
        "    self.email=email\n",
        "    self.password=password\n",
        "    self.device=device\n",
        "  def login(self,email,password,device):\n",
        "    if device!=self.device:\n",
        "      raise SecurityError('bhai teri toh lag gai')\n",
        "    if email==self.email and password==self.password:\n",
        "      print('welcome')\n",
        "    else:\n",
        "      print('invalid credentials')\n",
        "\n",
        "obj=Google('harshita','rharsk@22131gmail.com','1234','android')\n",
        "\n",
        "try:\n",
        "  obj.login('rharsk@22131gmail.com','1234','windows')\n",
        "except SecurityError as e:\n",
        "  e.logout()\n",
        "else:\n",
        "  print(obj.name)\n",
        "finally:\n",
        "  print('database connection closed')"
      ],
      "metadata": {
        "id": "oipk_rPYloCh",
        "colab": {
          "base_uri": "https://localhost:8080/"
        },
        "outputId": "1262f1ae-be3e-4ae6-c1c4-e6afeea5f0cc"
      },
      "execution_count": null,
      "outputs": [
        {
          "output_type": "stream",
          "name": "stdout",
          "text": [
            "bhai teri toh lag gai\n",
            "logout\n",
            "database connection closed\n"
          ]
        }
      ]
    }
  ],
  "metadata": {
    "colab": {
      "provenance": [],
      "authorship_tag": "ABX9TyOlO+dFhB5DEZ96bVuFHOmL",
      "include_colab_link": true
    },
    "kernelspec": {
      "display_name": "Python 3",
      "name": "python3"
    },
    "language_info": {
      "name": "python"
    }
  },
  "nbformat": 4,
  "nbformat_minor": 0
}