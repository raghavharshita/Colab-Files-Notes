{
  "nbformat": 4,
  "nbformat_minor": 0,
  "metadata": {
    "colab": {
      "provenance": [],
      "authorship_tag": "ABX9TyPHHql0scebrJ6VlTmuSqkH",
      "include_colab_link": true
    },
    "kernelspec": {
      "name": "python3",
      "display_name": "Python 3"
    },
    "language_info": {
      "name": "python"
    }
  },
  "cells": [
    {
      "cell_type": "markdown",
      "metadata": {
        "id": "view-in-github",
        "colab_type": "text"
      },
      "source": [
        "<a href=\"https://colab.research.google.com/github/raghavharshita/Colab-Files-Notes/blob/main/Iterators_and_Generators.ipynb\" target=\"_parent\"><img src=\"https://colab.research.google.com/assets/colab-badge.svg\" alt=\"Open In Colab\"/></a>"
      ]
    },
    {
      "cell_type": "markdown",
      "source": [
        "## Using Iterator"
      ],
      "metadata": {
        "id": "7ufp110lmr8M"
      }
    },
    {
      "cell_type": "code",
      "source": [
        "#example code\n",
        "class mera_range:\n",
        "  def __init__(self,start,end):\n",
        "    self.start=start\n",
        "    self.end=end\n",
        "  def __iter__(self):\n",
        "    return mera_range_iterator(self)\n",
        "\n",
        "class mera_range_iterator:\n",
        "  def __init__(self,iterator_obj):\n",
        "    self.iterator_obj=iterator_obj\n",
        "  def __iter__(self):\n",
        "    return self\n",
        "  def __next__(self):\n",
        "    if self.iterator_obj.start>=self.iterator_obj.end:\n",
        "      raise StopIteration\n",
        "\n",
        "    current=self.iterator_obj.start\n",
        "    self.iterator_obj.start+=1\n",
        "    return current"
      ],
      "metadata": {
        "id": "E08kpd5JATlx"
      },
      "execution_count": null,
      "outputs": []
    },
    {
      "cell_type": "code",
      "execution_count": null,
      "metadata": {
        "id": "tmk37kZbREU_"
      },
      "outputs": [],
      "source": [
        "# code to use in CNN\n",
        "import numpy as np\n",
        "import cv2\n",
        "\n",
        "class image_range:\n",
        "    def __init__(self,images_path,labels,batch_size=32):\n",
        "      self.images_path=images_path\n",
        "      self.labels=labels\n",
        "      self.batch_size=batch_size\n",
        "    def __iter__(self):\n",
        "      return image_range_iterator(self)\n",
        "\n",
        "class image_range_iterator:\n",
        "  def __init__(self,image_obj):\n",
        "    self.image_obj=image_obj\n",
        "    self.idx=0\n",
        "\n",
        "  def __iter__(self):\n",
        "    return self\n",
        "\n",
        "  def __next__(self):\n",
        "    if self.index>=len(self.image_obj.images_path):\n",
        "      raise StopIteration\n",
        "\n",
        "    batch_path=self.image_obj.images_path[self.idx:self.idx+self.image_obj.batch_size]\n",
        "    batch_labels=self.image_obj.labels[self.idx:self.idx+self.image_obj.batch_size]\n",
        "\n",
        "    batch_image=[]\n",
        "    for path in batch_path:\n",
        "      img=cv2.imread(path)\n",
        "      img=cv2.resize(img,(64,64))\n",
        "      img = img.astype(\"float32\") / 255.0\n",
        "      batch_image.append(img)\n",
        "\n",
        "    self.idx+=self.image_obj.batch_size\n",
        "    return np.array(batch_images),np.array(batch_labels)"
      ]
    },
    {
      "cell_type": "code",
      "source": [
        "dataset=image_range(images_path,labels)"
      ],
      "metadata": {
        "id": "Me3qwxE7r811"
      },
      "execution_count": null,
      "outputs": []
    },
    {
      "cell_type": "markdown",
      "source": [
        "First, we prepare all the image file paths and feed them into our image_range (custom iterator). This object only stores the paths and labels, not the full image data. When we iterate over it, the iterator loads the images batch by batch from disk, processes them, and passes them to the CNN. This way, we avoid loading the entire dataset into memory at once and achieve significant memory savings."
      ],
      "metadata": {
        "id": "ZIGYogLHuI5H"
      }
    },
    {
      "cell_type": "markdown",
      "source": [
        "## Generators\n",
        "Python generators are simple way of creating iterators."
      ],
      "metadata": {
        "id": "x8BMvtQcBB95"
      }
    },
    {
      "cell_type": "code",
      "source": [
        "#example\n",
        "def gen_demp():\n",
        "  yield \"first statement\"\n",
        "  yield \"second statement\"\n",
        "  yield \"third statement\"\n",
        "\n",
        "gen=gen_demp()\n",
        "print(next(gen))\n",
        "print(next(gen))\n",
        "print(next(gen))"
      ],
      "metadata": {
        "colab": {
          "base_uri": "https://localhost:8080/"
        },
        "id": "2VoE9hYVuJ-O",
        "outputId": "b401174a-d938-442b-f24b-d75db640f293"
      },
      "execution_count": 1,
      "outputs": [
        {
          "output_type": "stream",
          "name": "stdout",
          "text": [
            "first statement\n",
            "second statement\n",
            "third statement\n"
          ]
        }
      ]
    },
    {
      "cell_type": "code",
      "source": [
        "def square(num):\n",
        "  for i in range(1,num+1):\n",
        "    yield i**2\n",
        "\n",
        "gen=square(10)\n",
        "for i in gen:\n",
        "  print(i)"
      ],
      "metadata": {
        "colab": {
          "base_uri": "https://localhost:8080/"
        },
        "id": "Afii472pBJ62",
        "outputId": "2bd6a8a3-6be6-4f44-a887-26524b8ac099"
      },
      "execution_count": 2,
      "outputs": [
        {
          "output_type": "stream",
          "name": "stdout",
          "text": [
            "1\n",
            "4\n",
            "9\n",
            "16\n",
            "25\n",
            "36\n",
            "49\n",
            "64\n",
            "81\n",
            "100\n"
          ]
        }
      ]
    },
    {
      "cell_type": "code",
      "source": [
        "def my_range(start,end):\n",
        "  for i in range(start,end):\n",
        "    yield i\n",
        "\n",
        "gen=my_range(15,25)\n",
        "for i in gen:\n",
        "  print(i,end=' ')"
      ],
      "metadata": {
        "colab": {
          "base_uri": "https://localhost:8080/"
        },
        "id": "TTX4yH7eBJ97",
        "outputId": "0901fa91-0fd1-4b56-8c63-03470de7403b"
      },
      "execution_count": 4,
      "outputs": [
        {
          "output_type": "stream",
          "name": "stdout",
          "text": [
            "15 16 17 18 19 20 21 22 23 24 "
          ]
        }
      ]
    },
    {
      "cell_type": "code",
      "source": [
        "#list comprehension\n",
        "#here we are not to create a my_range function\n",
        "gen=(i**2 for i in range(1,10))\n",
        "for i in gen:\n",
        "  print(i)"
      ],
      "metadata": {
        "colab": {
          "base_uri": "https://localhost:8080/"
        },
        "id": "0Ne0RqUeBKAo",
        "outputId": "42e82061-9393-4db0-cc1a-06f79eedf572"
      },
      "execution_count": 9,
      "outputs": [
        {
          "output_type": "stream",
          "name": "stdout",
          "text": [
            "1\n",
            "4\n",
            "9\n",
            "16\n",
            "25\n",
            "36\n",
            "49\n",
            "64\n",
            "81\n"
          ]
        }
      ]
    },
    {
      "cell_type": "code",
      "source": [
        "# The above image_range using generator\n",
        "import os\n",
        "def image_range(folder_path,labels,batch_size=32):\n",
        "  batch_images = []\n",
        "  batch_labels = []\n",
        "  for file in os.listdir(folder_path):\n",
        "    path=os.path.join(folder_path,file)\n",
        "    img=cv2.imread(path)\n",
        "    img=cv2.resize(img,(64,64))\n",
        "    img = img.astype(\"float32\") / 255.0\n",
        "\n",
        "    batch_images.append(img)\n",
        "    batch_labels.append(labels[file])\n",
        "\n",
        "    if len(batch_images)==batch_size:\n",
        "      yield np.array(batch_images),np.array(batch_labels)\n",
        "      batch_images,batch_labels=[],[]\n",
        "\n",
        "  if batch_images:\n",
        "    yield np.array(batch_images),np.array(batch_labels)"
      ],
      "metadata": {
        "id": "NfKiEzSVBKDX"
      },
      "execution_count": 10,
      "outputs": []
    }
  ]
}