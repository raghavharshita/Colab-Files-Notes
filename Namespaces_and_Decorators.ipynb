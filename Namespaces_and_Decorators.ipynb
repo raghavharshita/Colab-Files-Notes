{
  "nbformat": 4,
  "nbformat_minor": 0,
  "metadata": {
    "colab": {
      "provenance": [],
      "authorship_tag": "ABX9TyOKkOB54v0ejIdDKriwIB7a",
      "include_colab_link": true
    },
    "kernelspec": {
      "name": "python3",
      "display_name": "Python 3"
    },
    "language_info": {
      "name": "python"
    }
  },
  "cells": [
    {
      "cell_type": "markdown",
      "metadata": {
        "id": "view-in-github",
        "colab_type": "text"
      },
      "source": [
        "<a href=\"https://colab.research.google.com/github/raghavharshita/Colab-Files-Notes/blob/main/Namespaces_and_Decorators.ipynb\" target=\"_parent\"><img src=\"https://colab.research.google.com/assets/colab-badge.svg\" alt=\"Open In Colab\"/></a>"
      ]
    },
    {
      "cell_type": "markdown",
      "source": [
        "# Namespace\n",
        "A namespace is a space that holds names(identifiers). Programmatically speaking, namespaces are dictionary of identifiers(keys) and their objects(values).\n",
        "\n",
        "There are 4 types of namespaces:\n",
        "* builtin namespace\n",
        "* Global namespace\n",
        "* Enclosing namespace\n",
        "* Local namespace\n",
        "\n",
        "## Scope and LEGB (Local Enclosing Global Builtin) Rule\n",
        "A scope is a textual region of a python program where a namespace is directly accessible.\n",
        "\n",
        "The interpreter searches for a name from the inside out, looking in the local, enclosing, global and finally the built in scope. If the interpreter doesn't find the name in any of these locations, then python raise a nameerror exception."
      ],
      "metadata": {
        "id": "YZhLKDwVF0fo"
      }
    },
    {
      "cell_type": "code",
      "source": [
        "#local and global\n",
        "#global\n",
        "a=2\n",
        "def temp():\n",
        "  #local\n",
        "  b=3\n",
        "  print(b)\n",
        "\n",
        "temp()\n",
        "print(a)"
      ],
      "metadata": {
        "colab": {
          "base_uri": "https://localhost:8080/"
        },
        "id": "_EvC7ECLJADa",
        "outputId": "6b9c2ca4-8326-4744-d516-614840d68965"
      },
      "execution_count": 1,
      "outputs": [
        {
          "output_type": "stream",
          "name": "stdout",
          "text": [
            "3\n",
            "2\n"
          ]
        }
      ]
    },
    {
      "cell_type": "code",
      "source": [
        "#local and global->same name\n",
        "#local and global\n",
        "#global\n",
        "a=2\n",
        "def temp():\n",
        "  #local\n",
        "  a=3\n",
        "  print(a)\n",
        "\n",
        "temp()\n",
        "print(a)"
      ],
      "metadata": {
        "colab": {
          "base_uri": "https://localhost:8080/"
        },
        "id": "PDuUtD9nJ4Ct",
        "outputId": "c588c5be-06c1-431d-e007-1b1194427d4d"
      },
      "execution_count": 2,
      "outputs": [
        {
          "output_type": "stream",
          "name": "stdout",
          "text": [
            "3\n",
            "2\n"
          ]
        }
      ]
    },
    {
      "cell_type": "code",
      "source": [
        "#local doesn't have but global have\n",
        "a=2\n",
        "def temp():\n",
        "  #local\n",
        "  print(a)\n",
        "\n",
        "temp()\n",
        "print(a)"
      ],
      "metadata": {
        "colab": {
          "base_uri": "https://localhost:8080/"
        },
        "id": "idlQyowfKY_N",
        "outputId": "54191d64-7ce0-4602-ab2e-e186aef9022a"
      },
      "execution_count": 3,
      "outputs": [
        {
          "output_type": "stream",
          "name": "stdout",
          "text": [
            "2\n",
            "2\n"
          ]
        }
      ]
    },
    {
      "cell_type": "code",
      "source": [
        "#editing global in local\n",
        "# we can not commit changes in global namespace in the local space\n",
        "a=2\n",
        "def temp():\n",
        "  a+=1\n",
        "  print(a)\n",
        "\n",
        "temp()\n",
        "print(a)"
      ],
      "metadata": {
        "colab": {
          "base_uri": "https://localhost:8080/",
          "height": 315
        },
        "id": "Xv0vnTpVKqSR",
        "outputId": "2b832403-bbf0-443e-eafa-cffa688c9178"
      },
      "execution_count": 5,
      "outputs": [
        {
          "output_type": "error",
          "ename": "UnboundLocalError",
          "evalue": "cannot access local variable 'a' where it is not associated with a value",
          "traceback": [
            "\u001b[0;31m---------------------------------------------------------------------------\u001b[0m",
            "\u001b[0;31mUnboundLocalError\u001b[0m                         Traceback (most recent call last)",
            "\u001b[0;32m/tmp/ipython-input-1677767939.py\u001b[0m in \u001b[0;36m<cell line: 0>\u001b[0;34m()\u001b[0m\n\u001b[1;32m      5\u001b[0m   \u001b[0mprint\u001b[0m\u001b[0;34m(\u001b[0m\u001b[0ma\u001b[0m\u001b[0;34m)\u001b[0m\u001b[0;34m\u001b[0m\u001b[0;34m\u001b[0m\u001b[0m\n\u001b[1;32m      6\u001b[0m \u001b[0;34m\u001b[0m\u001b[0m\n\u001b[0;32m----> 7\u001b[0;31m \u001b[0mtemp\u001b[0m\u001b[0;34m(\u001b[0m\u001b[0;34m)\u001b[0m\u001b[0;34m\u001b[0m\u001b[0;34m\u001b[0m\u001b[0m\n\u001b[0m\u001b[1;32m      8\u001b[0m \u001b[0mprint\u001b[0m\u001b[0;34m(\u001b[0m\u001b[0ma\u001b[0m\u001b[0;34m)\u001b[0m\u001b[0;34m\u001b[0m\u001b[0;34m\u001b[0m\u001b[0m\n",
            "\u001b[0;32m/tmp/ipython-input-1677767939.py\u001b[0m in \u001b[0;36mtemp\u001b[0;34m()\u001b[0m\n\u001b[1;32m      2\u001b[0m \u001b[0ma\u001b[0m\u001b[0;34m=\u001b[0m\u001b[0;36m2\u001b[0m\u001b[0;34m\u001b[0m\u001b[0;34m\u001b[0m\u001b[0m\n\u001b[1;32m      3\u001b[0m \u001b[0;32mdef\u001b[0m \u001b[0mtemp\u001b[0m\u001b[0;34m(\u001b[0m\u001b[0;34m)\u001b[0m\u001b[0;34m:\u001b[0m\u001b[0;34m\u001b[0m\u001b[0;34m\u001b[0m\u001b[0m\n\u001b[0;32m----> 4\u001b[0;31m   \u001b[0ma\u001b[0m\u001b[0;34m+=\u001b[0m\u001b[0;36m1\u001b[0m\u001b[0;34m\u001b[0m\u001b[0;34m\u001b[0m\u001b[0m\n\u001b[0m\u001b[1;32m      5\u001b[0m   \u001b[0mprint\u001b[0m\u001b[0;34m(\u001b[0m\u001b[0ma\u001b[0m\u001b[0;34m)\u001b[0m\u001b[0;34m\u001b[0m\u001b[0;34m\u001b[0m\u001b[0m\n\u001b[1;32m      6\u001b[0m \u001b[0;34m\u001b[0m\u001b[0m\n",
            "\u001b[0;31mUnboundLocalError\u001b[0m: cannot access local variable 'a' where it is not associated with a value"
          ]
        }
      ]
    },
    {
      "cell_type": "code",
      "source": [
        "#editing global in local\n",
        "a=2\n",
        "def temp():\n",
        "  global a\n",
        "  a+=1\n",
        "  print(a)\n",
        "\n",
        "temp()\n",
        "print(a)"
      ],
      "metadata": {
        "colab": {
          "base_uri": "https://localhost:8080/"
        },
        "id": "bGayWe45KqVF",
        "outputId": "ea1393ac-694d-44f8-fa7b-365f313fd9db"
      },
      "execution_count": 6,
      "outputs": [
        {
          "output_type": "stream",
          "name": "stdout",
          "text": [
            "3\n",
            "3\n"
          ]
        }
      ]
    },
    {
      "cell_type": "code",
      "source": [
        "#global created inside local\n",
        "a=2\n",
        "def temp():\n",
        "  global a\n",
        "  a=1\n",
        "  print(a)\n",
        "\n",
        "temp()\n",
        "print(a)"
      ],
      "metadata": {
        "colab": {
          "base_uri": "https://localhost:8080/"
        },
        "id": "UpmQzrIVKqX0",
        "outputId": "66ea94ee-d290-4e3c-c6c6-c266828dc0bb"
      },
      "execution_count": 7,
      "outputs": [
        {
          "output_type": "stream",
          "name": "stdout",
          "text": [
            "1\n",
            "1\n"
          ]
        }
      ]
    },
    {
      "cell_type": "code",
      "source": [
        "#function parameter is local\n",
        "#editing global in local\n",
        "a=5\n",
        "def temp(z):\n",
        "  print(z)\n",
        "\n",
        "temp(5)\n",
        "print(a)"
      ],
      "metadata": {
        "colab": {
          "base_uri": "https://localhost:8080/"
        },
        "id": "97k9HxjpKqal",
        "outputId": "595be4b8-6ce8-40b5-84b3-b61962285252"
      },
      "execution_count": 8,
      "outputs": [
        {
          "output_type": "stream",
          "name": "stdout",
          "text": [
            "5\n",
            "5\n"
          ]
        }
      ]
    },
    {
      "cell_type": "code",
      "source": [
        "#built in scope\n",
        "import builtins\n",
        "print(dir(builtins))\n",
        "print('hello')"
      ],
      "metadata": {
        "colab": {
          "base_uri": "https://localhost:8080/"
        },
        "id": "BU2lZbFAKqdY",
        "outputId": "c4cb7e69-ec0e-4481-8669-a11dcf65a637"
      },
      "execution_count": 10,
      "outputs": [
        {
          "output_type": "stream",
          "name": "stdout",
          "text": [
            "['ArithmeticError', 'AssertionError', 'AttributeError', 'BaseException', 'BaseExceptionGroup', 'BlockingIOError', 'BrokenPipeError', 'BufferError', 'BytesWarning', 'ChildProcessError', 'ConnectionAbortedError', 'ConnectionError', 'ConnectionRefusedError', 'ConnectionResetError', 'DeprecationWarning', 'EOFError', 'Ellipsis', 'EncodingWarning', 'EnvironmentError', 'Exception', 'ExceptionGroup', 'False', 'FileExistsError', 'FileNotFoundError', 'FloatingPointError', 'FutureWarning', 'GeneratorExit', 'IOError', 'ImportError', 'ImportWarning', 'IndentationError', 'IndexError', 'InterruptedError', 'IsADirectoryError', 'KeyError', 'KeyboardInterrupt', 'LookupError', 'MemoryError', 'ModuleNotFoundError', 'NameError', 'None', 'NotADirectoryError', 'NotImplemented', 'NotImplementedError', 'OSError', 'OverflowError', 'PendingDeprecationWarning', 'PermissionError', 'ProcessLookupError', 'RecursionError', 'ReferenceError', 'ResourceWarning', 'RuntimeError', 'RuntimeWarning', 'StopAsyncIteration', 'StopIteration', 'SyntaxError', 'SyntaxWarning', 'SystemError', 'SystemExit', 'TabError', 'TimeoutError', 'True', 'TypeError', 'UnboundLocalError', 'UnicodeDecodeError', 'UnicodeEncodeError', 'UnicodeError', 'UnicodeTranslateError', 'UnicodeWarning', 'UserWarning', 'ValueError', 'Warning', 'ZeroDivisionError', '__IPYTHON__', '__build_class__', '__debug__', '__doc__', '__import__', '__loader__', '__name__', '__package__', '__spec__', 'abs', 'aiter', 'all', 'anext', 'any', 'ascii', 'bin', 'bool', 'breakpoint', 'bytearray', 'bytes', 'callable', 'chr', 'classmethod', 'compile', 'complex', 'copyright', 'credits', 'delattr', 'dict', 'dir', 'display', 'divmod', 'enumerate', 'eval', 'exec', 'execfile', 'filter', 'float', 'format', 'frozenset', 'get_ipython', 'getattr', 'globals', 'hasattr', 'hash', 'help', 'hex', 'id', 'input', 'int', 'isinstance', 'issubclass', 'iter', 'len', 'license', 'list', 'locals', 'map', 'max', 'memoryview', 'min', 'next', 'object', 'oct', 'open', 'ord', 'pow', 'print', 'property', 'range', 'repr', 'reversed', 'round', 'runfile', 'set', 'setattr', 'slice', 'sorted', 'staticmethod', 'str', 'sum', 'super', 'tuple', 'type', 'vars', 'zip']\n",
            "hello\n"
          ]
        }
      ]
    },
    {
      "cell_type": "code",
      "source": [
        "# renaming the builtins\n",
        "L=[1,2,3,4]\n",
        "\n",
        "def max():\n",
        "  print('Hello')\n",
        "max(L)"
      ],
      "metadata": {
        "colab": {
          "base_uri": "https://localhost:8080/",
          "height": 176
        },
        "id": "s7bCUX93Kqgx",
        "outputId": "77188633-a1c0-48f0-ac4c-8389a4ab3dbf"
      },
      "execution_count": 12,
      "outputs": [
        {
          "output_type": "error",
          "ename": "TypeError",
          "evalue": "max() takes 0 positional arguments but 1 was given",
          "traceback": [
            "\u001b[0;31m---------------------------------------------------------------------------\u001b[0m",
            "\u001b[0;31mTypeError\u001b[0m                                 Traceback (most recent call last)",
            "\u001b[0;32m/tmp/ipython-input-3450031469.py\u001b[0m in \u001b[0;36m<cell line: 0>\u001b[0;34m()\u001b[0m\n\u001b[1;32m      4\u001b[0m \u001b[0;32mdef\u001b[0m \u001b[0mmax\u001b[0m\u001b[0;34m(\u001b[0m\u001b[0;34m)\u001b[0m\u001b[0;34m:\u001b[0m\u001b[0;34m\u001b[0m\u001b[0;34m\u001b[0m\u001b[0m\n\u001b[1;32m      5\u001b[0m   \u001b[0mprint\u001b[0m\u001b[0;34m(\u001b[0m\u001b[0;34m'Hello'\u001b[0m\u001b[0;34m)\u001b[0m\u001b[0;34m\u001b[0m\u001b[0;34m\u001b[0m\u001b[0m\n\u001b[0;32m----> 6\u001b[0;31m \u001b[0mmax\u001b[0m\u001b[0;34m(\u001b[0m\u001b[0mL\u001b[0m\u001b[0;34m)\u001b[0m\u001b[0;34m\u001b[0m\u001b[0;34m\u001b[0m\u001b[0m\n\u001b[0m",
            "\u001b[0;31mTypeError\u001b[0m: max() takes 0 positional arguments but 1 was given"
          ]
        }
      ]
    },
    {
      "cell_type": "code",
      "source": [
        "#Enclosing scope\n",
        "def outer():\n",
        "  def inner():\n",
        "    print('inner function')\n",
        "  inner()\n",
        "  print('outer function')\n",
        "outer()\n",
        "print('main program')"
      ],
      "metadata": {
        "colab": {
          "base_uri": "https://localhost:8080/"
        },
        "id": "U_k2W-WyQCBt",
        "outputId": "130bab66-f7cc-43bf-dff3-58db516bb664"
      },
      "execution_count": 13,
      "outputs": [
        {
          "output_type": "stream",
          "name": "stdout",
          "text": [
            "inner function\n",
            "outer function\n",
            "main program\n"
          ]
        }
      ]
    },
    {
      "cell_type": "code",
      "source": [
        "#Enclosing scope\n",
        "def outer():\n",
        "  a=1\n",
        "  def inner():\n",
        "    nonlocal a\n",
        "    a+=1\n",
        "    print(a)\n",
        "  inner()\n",
        "  print(a)\n",
        "outer()\n",
        "print('main program')"
      ],
      "metadata": {
        "colab": {
          "base_uri": "https://localhost:8080/"
        },
        "id": "aHDQ7vqeQd12",
        "outputId": "e82ae9ad-8db0-409a-f6f7-d8ad18f0a0fe"
      },
      "execution_count": 15,
      "outputs": [
        {
          "output_type": "stream",
          "name": "stdout",
          "text": [
            "2\n",
            "2\n",
            "main program\n"
          ]
        }
      ]
    },
    {
      "cell_type": "markdown",
      "source": [
        "## Decorator\n",
        "A Decorator in python is a function that receives another function as input and adds some functionallity to it and return it.\n",
        "\n",
        "This can happen only because the python functions are 1st class citizens.\n",
        "\n",
        "There are two types of decorator available in python:\n",
        "1. built in decorators like @staticmethod , @classmethod , @abstractmethod and @property method etc.\n",
        "2. user defined decorators that we programmers can create according to our need."
      ],
      "metadata": {
        "id": "LwLg4sRGSEdi"
      }
    },
    {
      "cell_type": "code",
      "source": [
        "#Python functions are 1st class citizens\n",
        "def func():\n",
        "  print('hello')\n",
        "\n",
        "def modify(func,num):\n",
        "  return func(num)\n",
        "def square(num):\n",
        "  return num**2\n",
        "# a=func\n",
        "# a()\n",
        "# del func\n",
        "# func()\n",
        "modify(square,2)"
      ],
      "metadata": {
        "colab": {
          "base_uri": "https://localhost:8080/"
        },
        "id": "yHmD-DMITICP",
        "outputId": "a413dd75-c30f-4e75-dfbf-c6c09e508812"
      },
      "execution_count": 18,
      "outputs": [
        {
          "output_type": "execute_result",
          "data": {
            "text/plain": [
              "4"
            ]
          },
          "metadata": {},
          "execution_count": 18
        }
      ]
    },
    {
      "cell_type": "code",
      "source": [
        "#closure-> if the outer function has been ended, eventhough the inner function can access the elements of the outer function\n",
        "#simple decorator\n",
        "def my_decorator(func):\n",
        "  def wrapper():\n",
        "    print('******************************')\n",
        "    func()\n",
        "    print('******************************')\n",
        "  return wrapper\n",
        "\n",
        "def hello():\n",
        "  print('hello')\n",
        "def display():\n",
        "  print('hello nitish')\n",
        "\n",
        "a=my_decorator(hello)\n",
        "a()\n",
        "b=my_decorator(display)\n",
        "b()"
      ],
      "metadata": {
        "colab": {
          "base_uri": "https://localhost:8080/"
        },
        "id": "kmiVEhpIobqM",
        "outputId": "d2683c59-b0d7-49f6-d82c-20f86f3f2790"
      },
      "execution_count": 3,
      "outputs": [
        {
          "output_type": "stream",
          "name": "stdout",
          "text": [
            "******************************\n",
            "hello\n",
            "******************************\n",
            "******************************\n",
            "hello nitish\n",
            "******************************\n"
          ]
        }
      ]
    },
    {
      "cell_type": "code",
      "source": [
        "#shortcut\n",
        "def my_decorator(func):\n",
        "  def wrapper():\n",
        "    print('******************************')\n",
        "    func()\n",
        "    print('******************************')\n",
        "  return wrapper\n",
        "\n",
        "@my_decorator\n",
        "def hello():\n",
        "  print('hello')\n",
        "hello()\n"
      ],
      "metadata": {
        "colab": {
          "base_uri": "https://localhost:8080/"
        },
        "id": "mrJFS3agq9Y2",
        "outputId": "600ad9f7-183b-4f7e-9d50-4d212b3b2f77"
      },
      "execution_count": 4,
      "outputs": [
        {
          "output_type": "stream",
          "name": "stdout",
          "text": [
            "******************************\n",
            "hello\n",
            "******************************\n"
          ]
        }
      ]
    },
    {
      "cell_type": "code",
      "source": [
        "#meaningful decorator\n",
        "import time\n",
        "def execution_time(func):\n",
        "  def wrapper(*args):\n",
        "    start=time.time()\n",
        "    func(*args)\n",
        "    print(f'time taken by {func.__name__} ----> {time.time()-start} seconds')\n",
        "  return wrapper\n",
        "\n",
        "@execution_time\n",
        "def hello():\n",
        "  print('hello')\n",
        "  time.sleep(2)\n",
        "\n",
        "@execution_time\n",
        "def display():\n",
        "  print('display something')\n",
        "  time.sleep(4)\n",
        "\n",
        "@execution_time\n",
        "def square(num):\n",
        "  time.sleep(1)\n",
        "  print(num**2)\n",
        "\n",
        "square(2)\n",
        "hello()\n"
      ],
      "metadata": {
        "colab": {
          "base_uri": "https://localhost:8080/"
        },
        "id": "IotJzit4q-ek",
        "outputId": "1aaae8a2-770d-4a0a-e2f1-cbfcee7fccf3"
      },
      "execution_count": 11,
      "outputs": [
        {
          "output_type": "stream",
          "name": "stdout",
          "text": [
            "4\n",
            "time taken by square ----> 1.0005195140838623 seconds\n",
            "hello\n",
            "time taken by hello ----> 2.0001633167266846 seconds\n"
          ]
        }
      ]
    },
    {
      "cell_type": "code",
      "source": [
        "def sanity_check(data_type):\n",
        "  def outer_wrapper(func):\n",
        "    def inner_wrapper(*args):\n",
        "      if type(*args)==data_type:\n",
        "        func(*args)\n",
        "      else:\n",
        "        raise TypeError('The data type is wrong')\n",
        "    return inner_wrapper\n",
        "  return outer_wrapper\n",
        "\n",
        "@sanity_check(int)\n",
        "def square(num):\n",
        "  print(num**2)\n",
        "\n",
        "square(5)"
      ],
      "metadata": {
        "colab": {
          "base_uri": "https://localhost:8080/"
        },
        "id": "kc52GTUfq-hL",
        "outputId": "d0665895-e48a-4b9f-d29a-359986560618"
      },
      "execution_count": 15,
      "outputs": [
        {
          "output_type": "stream",
          "name": "stdout",
          "text": [
            "25\n"
          ]
        }
      ]
    }
  ]
}